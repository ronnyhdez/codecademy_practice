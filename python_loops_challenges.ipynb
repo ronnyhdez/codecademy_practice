{
 "cells": [
  {
   "cell_type": "markdown",
   "id": "42054c78-ca8f-418c-9bd0-bde4ff478c18",
   "metadata": {},
   "source": [
    "# Python code challenges: Loops"
   ]
  },
  {
   "cell_type": "markdown",
   "id": "87a4e479-d59c-4a78-bd1c-2e92a4e5f6d5",
   "metadata": {},
   "source": [
    "Create a function named divisible_by_ten() that takes a list of numbers named nums as a parameter.\n",
    "\n",
    "Return the count of how many numbers in the list are divisible by 10."
   ]
  },
  {
   "cell_type": "code",
   "execution_count": 2,
   "id": "e3b078b1-6f14-4e25-9a7e-92ffdb38a5e5",
   "metadata": {},
   "outputs": [
    {
     "name": "stdout",
     "output_type": "stream",
     "text": [
      "3\n"
     ]
    }
   ],
   "source": [
    "#Write your function here\n",
    "def divisible_by_ten(num):\n",
    "  count = 0\n",
    "  for item in num:\n",
    "    if (item % 10 == 0):\n",
    "      count += 1\n",
    "  return count \n",
    "\n",
    "#Uncomment the line below when your function is done\n",
    "print(divisible_by_ten([20, 25, 30, 35, 40]))"
   ]
  },
  {
   "cell_type": "markdown",
   "id": "b0dd591d-7e32-4e7c-816a-6f15a93c670e",
   "metadata": {},
   "source": [
    "Create a function named add_greetings() which takes a list of strings named names as a parameter.\n",
    "\n",
    "In the function, create an empty list that will contain each greeting. Add the string 'Hello, ' in front of each name in names and append the greeting to the list.\n",
    "\n",
    "Return the new list containing the greetings."
   ]
  },
  {
   "cell_type": "code",
   "execution_count": 3,
   "id": "66d9c5ee-c76d-4ab5-87d8-81269763a91d",
   "metadata": {},
   "outputs": [
    {
     "name": "stdout",
     "output_type": "stream",
     "text": [
      "['Hello, Owen', 'Hello, Max', 'Hello, Sophie']\n"
     ]
    }
   ],
   "source": [
    "#Write your function here\n",
    "def add_greetings(names):\n",
    "  lista = []\n",
    "  for item in names:\n",
    "    lista.append(\"Hello, \" + item)\n",
    "  return(lista)\n",
    "\n",
    "#Uncomment the line below when your function is done\n",
    "print(add_greetings([\"Owen\", \"Max\", \"Sophie\"]))"
   ]
  },
  {
   "cell_type": "markdown",
   "id": "22c7626a-e635-44f2-9c6b-423567f92dd3",
   "metadata": {},
   "source": [
    "Write a function called delete_starting_evens() that has a parameter named lst.\n",
    "\n",
    "The function should remove elements from the front of lst until the front of the list is not even. The function should then return lst.\n",
    "\n",
    "For example if lst started as [4, 8, 10, 11, 12, 15], then delete_starting_evens(lst) should return [11, 12, 15].\n",
    "\n",
    "Make sure your function works even if every element in the list is even!"
   ]
  },
  {
   "cell_type": "markdown",
   "id": "fcc782fa-b239-45d5-ac25-72293d869849",
   "metadata": {},
   "source": []
  },
  {
   "cell_type": "code",
   "execution_count": 3,
   "id": "33ada1c2-d14f-477a-89cb-6b1d21022ed8",
   "metadata": {},
   "outputs": [
    {
     "name": "stdout",
     "output_type": "stream",
     "text": [
      "[11, 12, 15]\n",
      "[]\n"
     ]
    }
   ],
   "source": [
    "#Write your function here\n",
    "def delete_starting_evens(lst):\n",
    "  while(len(lst) > 0 and lst[0] % 2 == 0):\n",
    "    lst = lst[1:]\n",
    "  return lst\n",
    "\n",
    "\n",
    "#Uncomment the lines below when your function is done\n",
    "print(delete_starting_evens([4, 8, 10, 11, 12, 15]))\n",
    "print(delete_starting_evens([4, 8, 10]))"
   ]
  },
  {
   "cell_type": "code",
   "execution_count": null,
   "id": "425b22e9-9e1e-4914-a01d-7bb218916aa9",
   "metadata": {},
   "outputs": [],
   "source": []
  }
 ],
 "metadata": {
  "kernelspec": {
   "display_name": "Python 3 (ipykernel)",
   "language": "python",
   "name": "python3"
  },
  "language_info": {
   "codemirror_mode": {
    "name": "ipython",
    "version": 3
   },
   "file_extension": ".py",
   "mimetype": "text/x-python",
   "name": "python",
   "nbconvert_exporter": "python",
   "pygments_lexer": "ipython3",
   "version": "3.9.7"
  }
 },
 "nbformat": 4,
 "nbformat_minor": 5
}
